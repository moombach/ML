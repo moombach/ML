{
  "nbformat": 4,
  "nbformat_minor": 0,
  "metadata": {
    "colab": {
      "name": "Copy of Cross Validation.ipynb",
      "provenance": [],
      "include_colab_link": true
    },
    "kernelspec": {
      "name": "python3",
      "display_name": "Python 3"
    },
    "language_info": {
      "name": "python"
    }
  },
  "cells": [
    {
      "cell_type": "markdown",
      "metadata": {
        "id": "view-in-github",
        "colab_type": "text"
      },
      "source": [
        "<a href=\"https://colab.research.google.com/github/moombach/ML/blob/main/Copy_of_Cross_Validation.ipynb\" target=\"_parent\"><img src=\"https://colab.research.google.com/assets/colab-badge.svg\" alt=\"Open In Colab\"/></a>"
      ]
    },
    {
      "cell_type": "code",
      "metadata": {
        "colab": {
          "base_uri": "https://localhost:8080/"
        },
        "id": "Tgdtx8OysG3w",
        "outputId": "eb46c0db-aa96-478f-9dcf-ae2550d657d8"
      },
      "source": [
        "from tensorflow.keras.datasets import mnist\n",
        "(X_train, y_train), (X_test, y_test) = mnist.load_data()\n",
        "X_train.shape, y_train.shape, X_test.shape, y_test.shape"
      ],
      "execution_count": null,
      "outputs": [
        {
          "output_type": "execute_result",
          "data": {
            "text/plain": [
              "((60000, 28, 28), (60000,), (10000, 28, 28), (10000,))"
            ]
          },
          "metadata": {},
          "execution_count": 24
        }
      ]
    },
    {
      "cell_type": "code",
      "metadata": {
        "colab": {
          "base_uri": "https://localhost:8080/",
          "height": 282
        },
        "id": "MIAeZAyxsabH",
        "outputId": "39ceff9c-fd96-46b5-e5cb-cb9f76a5a9ca"
      },
      "source": [
        "import matplotlib.pyplot as plt\n",
        "\n",
        "plt.imshow(X_train[0], cmap=plt.get_cmap('gray'))"
      ],
      "execution_count": null,
      "outputs": [
        {
          "output_type": "execute_result",
          "data": {
            "text/plain": [
              "<matplotlib.image.AxesImage at 0x7f1c8ac54bd0>"
            ]
          },
          "metadata": {},
          "execution_count": 5
        },
        {
          "output_type": "display_data",
          "data": {
            "image/png": "[encoded data removed]",
            "text/plain": [
              "<Figure size 432x288 with 1 Axes>"
            ]
          },
          "metadata": {
            "needs_background": "light"
          }
        }
      ]
    },
    {
      "cell_type": "code",
      "metadata": {
        "colab": {
          "base_uri": "https://localhost:8080/"
        },
        "id": "Q9QrK0YuuNtD",
        "outputId": "995bd231-efbe-404a-d68b-09ccaaeb062d"
      },
      "source": [
        "from sklearn.model_selection import train_test_split\n",
        "\n",
        "X_val, X_test, y_val, y_test = train_test_split(X_test, y_test, test_size=0.5)\n",
        "X_val.shape, X_test.shape, y_val.shape, y_test.shape"
      ],
      "execution_count": null,
      "outputs": [
        {
          "output_type": "execute_result",
          "data": {
            "text/plain": [
              "((5000, 28, 28), (5000, 28, 28), (5000,), (5000,))"
            ]
          },
          "metadata": {},
          "execution_count": 25
        }
      ]
    },
    {
      "cell_type": "code",
      "metadata": {
        "colab": {
          "base_uri": "https://localhost:8080/"
        },
        "id": "K9YyQlj7wOBe",
        "outputId": "6fbd094d-5987-48f4-ef7a-04d60213ab88"
      },
      "source": [
        "from sklearn.ensemble import RandomForestClassifier\n",
        "from sklearn.metrics import accuracy_score\n",
        "\n",
        "rf = RandomForestClassifier(n_estimators=12, max_depth=6).fit(X_train.reshape((60000, -1)), y_train)\n",
        "rf_train_preds = rf.predict(X_train.reshape((60000, -1)))\n",
        "rf_val_preds = rf.predict(X_val.reshape((5000, -1)))\n",
        "accuracy_score(rf_train_preds, y_train), accuracy_score(rf_val_preds, y_val)"
      ],
      "execution_count": null,
      "outputs": [
        {
          "output_type": "execute_result",
          "data": {
            "text/plain": [
              "(0.8565, 0.8582)"
            ]
          },
          "metadata": {},
          "execution_count": 30
        }
      ]
    },
    {
      "cell_type": "code",
      "metadata": {
        "colab": {
          "base_uri": "https://localhost:8080/"
        },
        "id": "Sj3kRl2hxvvn",
        "outputId": "348ac95d-db17-4572-b777-5547a83e1fe3"
      },
      "source": [
        "from sklearn.metrics import classification_report\n",
        "\n",
        "print(classification_report(rf_val_preds, y_val))"
      ],
      "execution_count": null,
      "outputs": [
        {
          "output_type": "stream",
          "name": "stdout",
          "text": [
            "              precision    recall  f1-score   support\n",
            "\n",
            "           0       0.97      0.89      0.93       524\n",
            "           1       0.97      0.87      0.92       604\n",
            "           2       0.84      0.86      0.85       498\n",
            "           3       0.82      0.83      0.82       494\n",
            "           4       0.79      0.83      0.81       465\n",
            "           5       0.71      0.91      0.79       355\n",
            "           6       0.91      0.87      0.88       519\n",
            "           7       0.90      0.90      0.90       516\n",
            "           8       0.81      0.84      0.82       493\n",
            "           9       0.85      0.79      0.81       532\n",
            "\n",
            "    accuracy                           0.86      5000\n",
            "   macro avg       0.86      0.86      0.86      5000\n",
            "weighted avg       0.86      0.86      0.86      5000\n",
            "\n"
          ]
        }
      ]
    },
    {
      "cell_type": "code",
      "metadata": {
        "colab": {
          "base_uri": "https://localhost:8080/"
        },
        "id": "5CT_sqDFxjYo",
        "outputId": "549093f8-adc5-4e55-c4b6-6260fb34a796"
      },
      "source": [
        "rf_test_preds = rf.predict(X_test.reshape((5000, -1)))\n",
        "accuracy_score(rf_test_preds, y_test)"
      ],
      "execution_count": null,
      "outputs": [
        {
          "output_type": "execute_result",
          "data": {
            "text/plain": [
              "0.8574"
            ]
          },
          "metadata": {},
          "execution_count": 31
        }
      ]
    },
    {
      "cell_type": "code",
      "metadata": {
        "colab": {
          "base_uri": "https://localhost:8080/"
        },
        "id": "z0yt1vmvz3eP",
        "outputId": "8e5916ab-5a78-484c-89d5-320e033e4585"
      },
      "source": [
        "(X_train, y_train), (X_test, y_test) = mnist.load_data()\n",
        "X_train.shape, y_train.shape, X_test.shape, y_test.shape"
      ],
      "execution_count": null,
      "outputs": [
        {
          "output_type": "execute_result",
          "data": {
            "text/plain": [
              "((60000, 28, 28), (60000,), (10000, 28, 28), (10000,))"
            ]
          },
          "metadata": {},
          "execution_count": 35
        }
      ]
    },
    {
      "cell_type": "code",
      "metadata": {
        "colab": {
          "base_uri": "https://localhost:8080/"
        },
        "id": "eLP9dPFXteRF",
        "outputId": "75e68b8c-c85a-449a-dd78-000488083bbe"
      },
      "source": [
        "from sklearn.model_selection import cross_val_score\n",
        "\n",
        "cross_val_score(rf, X_train.reshape((60000, -1)), y_train, cv=10, scoring='f1_macro')"
      ],
      "execution_count": null,
      "outputs": [
        {
          "output_type": "execute_result",
          "data": {
            "text/plain": [
              "array([0.86059349, 0.84246262, 0.83287781, 0.85931726, 0.84938262,\n",
              "       0.83539899, 0.84279782, 0.84526565, 0.84450675, 0.89049893])"
            ]
          },
          "metadata": {},
          "execution_count": 45
        }
      ]
    },
    {
      "cell_type": "code",
      "metadata": {
        "colab": {
          "base_uri": "https://localhost:8080/"
        },
        "id": "uK7F-dw31TZr",
        "outputId": "4aec330d-5ff8-4e50-96e7-950d5230fbf4"
      },
      "source": [
        "rf_final = RandomForestClassifier(n_estimators=12, max_depth=6).fit(X_train.reshape((60000, -1)), y_train)\n",
        "rf_final_test_preds = rf_final.predict(X_test.reshape((10000, -1)))\n",
        "print(classification_report(rf_final_test_preds, y_test))"
      ],
      "execution_count": null,
      "outputs": [
        {
          "output_type": "stream",
          "name": "stdout",
          "text": [
            "              precision    recall  f1-score   support\n",
            "\n",
            "           0       0.98      0.89      0.93      1081\n",
            "           1       0.98      0.90      0.94      1235\n",
            "           2       0.83      0.88      0.85       980\n",
            "           3       0.82      0.81      0.82      1020\n",
            "           4       0.84      0.84      0.84       974\n",
            "           5       0.72      0.86      0.78       743\n",
            "           6       0.87      0.88      0.88       949\n",
            "           7       0.87      0.86      0.86      1031\n",
            "           8       0.80      0.82      0.81       949\n",
            "           9       0.83      0.80      0.81      1038\n",
            "\n",
            "    accuracy                           0.86     10000\n",
            "   macro avg       0.85      0.85      0.85     10000\n",
            "weighted avg       0.86      0.86      0.86     10000\n",
            "\n"
          ]
        }
      ]
    },
    {
      "cell_type": "code",
      "metadata": {
        "id": "_hh9jh6h7ZY1"
      },
      "source": [
        ""
      ],
      "execution_count": null,
      "outputs": []
    }
  ]
}